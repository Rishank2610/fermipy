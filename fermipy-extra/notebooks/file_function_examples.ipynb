{
 "cells": [
  {
   "cell_type": "markdown",
   "metadata": {},
   "source": [
    "# Manipulating FileFunction Spectra"
   ]
  },
  {
   "cell_type": "markdown",
   "metadata": {},
   "source": [
    "This tutorial demonstrates some of the methods that can be used to manipulate FileFunction sources in fermipy.  For this example we'll use the draco analysis."
   ]
  },
  {
   "cell_type": "code",
   "execution_count": 23,
   "metadata": {
    "collapsed": false,
    "scrolled": false
   },
   "outputs": [],
   "source": [
    "import os\n",
    "if os.path.isfile('../data/draco.tar.gz'):\n",
    "    !tar xzf ../data/draco.tar.gz\n",
    "else:\n",
    "    !curl -OL https://raw.githubusercontent.com/fermiPy/fermipy-extras/master/data/draco.tar.gz\n",
    "    !tar xzf draco.tar.gz\n"
   ]
  },
  {
   "cell_type": "code",
   "execution_count": 24,
   "metadata": {
    "collapsed": false,
    "scrolled": false
   },
   "outputs": [
    {
     "name": "stderr",
     "output_type": "stream",
     "text": [
      "2016-04-20 08:00:56 INFO     GTAnalysis.__init__(): \n",
      "--------------------------------------------------------------------------------\n",
      "This is fermipy version 0.6.8+57.gbeca.dirty.\n",
      "2016-04-20 08:00:58 INFO     GTAnalysis.setup(): Running setup\n",
      "2016-04-20 08:00:58 INFO     GTBinnedAnalysis.setup(): Running setup for Analysis Component: 00\n",
      "2016-04-20 08:01:11 INFO     GTBinnedAnalysis.setup(): Finished setup for Analysis Component: 00\n",
      "2016-04-20 08:01:11 INFO     GTAnalysis.setup(): Initializing source properties\n",
      "2016-04-20 08:01:11 INFO     GTAnalysis.setup(): Finished setup\n"
     ]
    }
   ],
   "source": [
    "%matplotlib inline\n",
    "import matplotlib.pyplot as plt\n",
    "import numpy as np\n",
    "\n",
    "from fermipy.gtanalysis import GTAnalysis\n",
    "gta = GTAnalysis('draco/config.yaml')\n",
    "gta.setup()"
   ]
  },
  {
   "cell_type": "markdown",
   "metadata": {},
   "source": [
    "By default all sources are initialized with parametric spectral models (PowerLaw, etc.).  The spectral model of a source an be updated by calling ``set_source_spectrum()``."
   ]
  },
  {
   "cell_type": "code",
   "execution_count": 25,
   "metadata": {
    "collapsed": false
   },
   "outputs": [
    {
     "name": "stdout",
     "output_type": "stream",
     "text": [
      "Name           : 3FGL J1725.3+5853\n",
      "Associations   : ['3FGL J1725.3+5853', '7C 1724+5854', '2FGL J1725.2+5853']\n",
      "RA/DEC         :    261.332/    58.887\n",
      "GLON/GLAT      :     87.497/    33.997\n",
      "TS             : nan\n",
      "Npred          : 278.15\n",
      "Flux           : 9.942e-10 +/-      nan\n",
      "EnergyFlux     : 2.323e-06 +/-      nan\n",
      "SpatialModel   : PointSource\n",
      "SpectrumType   : PowerLaw\n",
      "Spectral Parameters\n",
      "Index          :     -2.179 +/-        nan\n",
      "Scale          :       1701 +/-        nan\n",
      "Prefactor      :  1.627e-13 +/-        nan\n"
     ]
    }
   ],
   "source": [
    "print gta.roi['3FGL J1725.3+5853']"
   ]
  },
  {
   "cell_type": "markdown",
   "metadata": {},
   "source": [
    "Running ``set_source_spectrum()`` with no additional arguments will substitute the source spectrum with a FileFunction with the same distribution in differential flux.  The normalization parameter is defined such that 1.0 corresponds to the normalization of the original source spectrum.  "
   ]
  },
  {
   "cell_type": "code",
   "execution_count": 26,
   "metadata": {
    "collapsed": false
   },
   "outputs": [
    {
     "name": "stdout",
     "output_type": "stream",
     "text": [
      "Name           : 3FGL J1725.3+5853\n",
      "Associations   : ['3FGL J1725.3+5853', '7C 1724+5854', '2FGL J1725.2+5853']\n",
      "RA/DEC         :    261.332/    58.887\n",
      "GLON/GLAT      :     87.497/    33.997\n",
      "TS             : 283.34\n",
      "Npred          : 278.15\n",
      "Flux           : 9.942e-10 +/-      nan\n",
      "EnergyFlux     : 2.323e-06 +/-      nan\n",
      "SpatialModel   : PointSource\n",
      "SpectrumType   : FileFunction\n",
      "Spectral Parameters\n",
      "Normalization  :          1 +/-          0\n"
     ]
    }
   ],
   "source": [
    "gta.set_source_spectrum('3FGL J1725.3+5853','FileFunction')\n",
    "print gta.roi['3FGL J1725.3+5853']"
   ]
  },
  {
   "cell_type": "markdown",
   "metadata": {},
   "source": [
    "The differential flux of a FileFunction source can be accessed or modified at runtime by calling the ``get_source_dfde()`` and ``set_source_dfde()`` methods:"
   ]
  },
  {
   "cell_type": "code",
   "execution_count": 27,
   "metadata": {
    "collapsed": false
   },
   "outputs": [
    {
     "name": "stdout",
     "output_type": "stream",
     "text": [
      "60891.8571503\n",
      "60979.3497856\n"
     ]
    },
    {
     "data": {
      "image/png": "[encoded data removed]",
      "text/plain": [
       "<matplotlib.figure.Figure at 0x1173896d0>"
      ]
     },
     "metadata": {},
     "output_type": "display_data"
    }
   ],
   "source": [
    "x, y = gta.get_source_dfde('3FGL J1725.3+5853')\n",
    "y1 = 1E-12*10**(-2.0*(x-3.0))*np.exp(-10**(x-3.0))\n",
    "plt.figure()\n",
    "plt.plot(x,y)\n",
    "plt.plot(x,y1)\n",
    "plt.gca().set_yscale('log')\n",
    "plt.gca().set_ylim(1E-17,1E-5)\n",
    "print gta.like()\n",
    "gta.set_source_dfde('3FGL J1725.3+5853',y1)\n",
    "print gta.like()\n"
   ]
  },
  {
   "cell_type": "markdown",
   "metadata": {},
   "source": [
    "Calling ``set_source_spectrum()`` with the optional dictionary argument can be used to explicitly set the parameters of the new spectral model.  "
   ]
  },
  {
   "cell_type": "code",
   "execution_count": 28,
   "metadata": {
    "collapsed": false
   },
   "outputs": [
    {
     "data": {
      "text/plain": [
       "60891.85104206393"
      ]
     },
     "execution_count": 28,
     "metadata": {},
     "output_type": "execute_result"
    }
   ],
   "source": [
    "gta.set_source_spectrum('3FGL J1725.3+5853','PowerLaw',{'Index' : 2.179, 'Scale' : 1701, 'Prefactor' : 1.627e-13})\n",
    "gta.like()"
   ]
  }
 ],
 "metadata": {
  "kernelspec": {
   "display_name": "Python 2",
   "language": "python",
   "name": "python2"
  },
  "language_info": {
   "codemirror_mode": {
    "name": "ipython",
    "version": 2
   },
   "file_extension": ".py",
   "mimetype": "text/x-python",
   "name": "python",
   "nbconvert_exporter": "python",
   "pygments_lexer": "ipython2",
   "version": "2.7.8"
  }
 },
 "nbformat": 4,
 "nbformat_minor": 0
}

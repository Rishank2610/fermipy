{
 "cells": [
  {
   "cell_type": "markdown",
   "metadata": {},
   "source": [
    "# Fermipy IPython Notebooks\n",
    "\n",
    "This page collects various notebooks that demonstrate how to use fermipy.  These notebooks can be run interactively by downloading the fermipy-extras repository and launching jupyter notebook from the notebooks directory:\n",
    "\n",
    "```\n",
    "    $ git clone https://github.com/fermiPy/fermipy-extra.git    \n",
    "    $ cd fermipy-extra/notebooks\n",
    "    $ jupyter notebook index.ipynb\n",
    "```\n",
    "    \n",
    "Here is a list of available notebooks:\n",
    "\n",
    "* [PG1553](pg1553.ipynb) : Basic tutorial on LAT analysis.\n",
    "* [IC443](ic443.ipynb) : Analysis to measure the angular extension of the SNR IC443.\n",
    "* [Draco](draco.ipynb) : DM upper limit analysis of the Draco dwarf spheroidal galaxy."
   ]
  }
 ],
 "metadata": {
  "kernelspec": {
   "display_name": "Python 2",
   "language": "python",
   "name": "python2"
  },
  "language_info": {
   "codemirror_mode": {
    "name": "ipython",
    "version": 2
   },
   "file_extension": ".py",
   "mimetype": "text/x-python",
   "name": "python",
   "nbconvert_exporter": "python",
   "pygments_lexer": "ipython2",
   "version": "2.7.14"
  }
 },
 "nbformat": 4,
 "nbformat_minor": 1
}

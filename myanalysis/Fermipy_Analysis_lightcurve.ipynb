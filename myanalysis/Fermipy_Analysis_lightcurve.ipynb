{
 "cells": [
  {
   "cell_type": "code",
   "execution_count": null,
   "metadata": {},
   "outputs": [],
   "source": [
    "ls"
   ]
  },
  {
   "cell_type": "code",
   "execution_count": null,
   "metadata": {},
   "outputs": [],
   "source": [
    "%matplotlib inline\n",
    "import matplotlib.pyplot as plt\n",
    "import matplotlib\n",
    "import numpy as np "
   ]
  },
  {
   "cell_type": "code",
   "execution_count": null,
   "metadata": {},
   "outputs": [],
   "source": [
    "from fermipy.gtanalysis import GTAnalysis\n",
    "gta = GTAnalysis('config.yaml',logging={'verbosity':3})\n",
    "matplotlib.interactive(True)"
   ]
  },
  {
   "cell_type": "code",
   "execution_count": null,
   "metadata": {},
   "outputs": [],
   "source": [
    "gta.setup()"
   ]
  },
  {
   "cell_type": "code",
   "execution_count": null,
   "metadata": {},
   "outputs": [],
   "source": [
    "gta.write_roi('fit0')"
   ]
  },
  {
   "cell_type": "code",
   "execution_count": null,
   "metadata": {},
   "outputs": [],
   "source": [
    "ls"
   ]
  },
  {
   "cell_type": "code",
   "execution_count": null,
   "metadata": {},
   "outputs": [],
   "source": [
    "ls *fits"
   ]
  },
  {
   "cell_type": "code",
   "execution_count": null,
   "metadata": {},
   "outputs": [],
   "source": [
    "import astropy.io.fits as pyfits\n",
    "\n",
    "h = pyfits.open('ccube.fits')\n",
    "h.info()\n",
    "counts = h[0].data\n",
    "counts.shape\n",
    "plt.figure()\n",
    "plt.imshow(np.sum(counts,axis=0),interpolation='nearest',origin='lower')"
   ]
  },
  {
   "cell_type": "code",
   "execution_count": null,
   "metadata": {},
   "outputs": [],
   "source": [
    "gta.print_roi()"
   ]
  },
  {
   "cell_type": "code",
   "execution_count": null,
   "metadata": {
    "scrolled": true
   },
   "outputs": [],
   "source": [
    "print(gta.roi['1ES1218+304'])"
   ]
  },
  {
   "cell_type": "code",
   "execution_count": null,
   "metadata": {},
   "outputs": [],
   "source": [
    "gta.optimize()"
   ]
  },
  {
   "cell_type": "code",
   "execution_count": null,
   "metadata": {},
   "outputs": [],
   "source": [
    "gta.print_roi()"
   ]
  },
  {
   "cell_type": "code",
   "execution_count": null,
   "metadata": {},
   "outputs": [],
   "source": [
    "gta.free_sources(False)\n",
    "\n",
    "#Free Normalization of all Sources within 3 deg of ROI center\n",
    "gta.free_sources(distance=2.0,pars='norm')\n",
    "\n",
    "#Free all parameters of isotropic and galactic diffuse components\n",
    "gta.free_source('galdiff')\n",
    "gta.free_source('isodiff')"
   ]
  },
  {
   "cell_type": "code",
   "execution_count": null,
   "metadata": {},
   "outputs": [],
   "source": [
    "gta.free_source('1ES1218+304')"
   ]
  },
  {
   "cell_type": "code",
   "execution_count": null,
   "metadata": {},
   "outputs": [],
   "source": [
    "gta.free_source('4FGL J1217.9+3007')"
   ]
  },
  {
   "cell_type": "code",
   "execution_count": null,
   "metadata": {},
   "outputs": [],
   "source": [
    "fit_results = gta.fit()"
   ]
  },
  {
   "cell_type": "code",
   "execution_count": null,
   "metadata": {},
   "outputs": [],
   "source": [
    "print('Fit Quality: ',fit_results['fit_quality'])\n",
    "print(gta.roi['1ES1218+304'])"
   ]
  },
  {
   "cell_type": "code",
   "execution_count": null,
   "metadata": {},
   "outputs": [],
   "source": [
    "print('Fit Quality: ',fit_results['fit_quality'])\n",
    "print(gta.roi['4FGL J1217.9+3007'])"
   ]
  },
  {
   "cell_type": "code",
   "execution_count": null,
   "metadata": {},
   "outputs": [],
   "source": [
    "gta.print_roi()"
   ]
  },
  {
   "cell_type": "code",
   "execution_count": null,
   "metadata": {
    "scrolled": false
   },
   "outputs": [],
   "source": [
    "gta.write_roi('fit1',make_plots=True)"
   ]
  },
  {
   "cell_type": "code",
   "execution_count": null,
   "metadata": {},
   "outputs": [],
   "source": [
    "gta.residmap('fit1', make_plots=True)"
   ]
  },
  {
   "cell_type": "code",
   "execution_count": null,
   "metadata": {},
   "outputs": [],
   "source": [
    "gta.tsmap('fit1', make_plots=True)"
   ]
  },
  {
   "cell_type": "code",
   "execution_count": null,
   "metadata": {},
   "outputs": [],
   "source": [
    "ls -l *.png"
   ]
  },
  {
   "cell_type": "code",
   "execution_count": null,
   "metadata": {},
   "outputs": [],
   "source": [
    "from IPython.display import Image, display\n",
    "from glob import glob"
   ]
  },
  {
   "cell_type": "code",
   "execution_count": null,
   "metadata": {},
   "outputs": [],
   "source": [
    "pngs = glob('*.png')"
   ]
  },
  {
   "cell_type": "code",
   "execution_count": null,
   "metadata": {
    "scrolled": true
   },
   "outputs": [],
   "source": [
    "for png in pngs:\n",
    "    my_image = Image(png)\n",
    "    display(my_image)"
   ]
  },
  {
   "cell_type": "code",
   "execution_count": null,
   "metadata": {},
   "outputs": [],
   "source": [
    "sed = gta.sed('4FGL J1221.3+3010')"
   ]
  },
  {
   "cell_type": "code",
   "execution_count": null,
   "metadata": {},
   "outputs": [],
   "source": [
    "src = gta.roi['4FGL J1221.3+3010']"
   ]
  },
  {
   "cell_type": "code",
   "execution_count": null,
   "metadata": {
    "scrolled": false
   },
   "outputs": [],
   "source": [
    "binsize = 30*24*60*60 #time in seconds\n",
    "tminLC = 536457605.0\n",
    "binsLC = np.array(range(0,42))\n",
    "binsLC = binsLC*(binsize)+tminLC\n",
    "binsLC=list(binsLC)\n",
    "\n",
    "binsLC"
   ]
  },
  {
   "cell_type": "code",
   "execution_count": null,
   "metadata": {
    "scrolled": true
   },
   "outputs": [],
   "source": [
    "lc = gta.lightcurve('4FGL J1221.3+3010', free_params=['Prefactor'], time_bins=binsLC, multithread=True, nthread=2)"
   ]
  },
  {
   "cell_type": "code",
   "execution_count": null,
   "metadata": {},
   "outputs": [],
   "source": [
    "tmean = (lc['tmin'] + lc['tmax'])/2\n",
    "plt.errorbar(tmean, lc['eflux'],yerr=lc['eflux_err'],xerr=binsize/2, linestyle='None', marker='o')\n",
    "\n",
    "plt.xlabel('Fermi seconds since 2001.0 UTC')\n",
    "plt.ylabel('Energy flux [MeV cm$^{-2}$ s$^{-1}$]')\n",
    "\n",
    "plt.show"
   ]
  },
  {
   "cell_type": "code",
   "execution_count": null,
   "metadata": {},
   "outputs": [],
   "source": [
    "tmean = (lc['tmin'] + lc['tmax'])/2\n",
    "plt.errorbar(tmean, lc['flux'],yerr=lc['flux_err'],xerr=binsize/2, linestyle='None', marker='o')\n",
    "\n",
    "plt.xlabel('Fermi seconds since 2001.0 UTC')\n",
    "plt.ylabel('Photon flux [MeV cm$^{-2}$ s$^{-1}$]')\n",
    "\n",
    "plt.show"
   ]
  },
  {
   "cell_type": "code",
   "execution_count": null,
   "metadata": {},
   "outputs": [],
   "source": []
  }
 ],
 "metadata": {
  "kernelspec": {
   "display_name": "Python [conda env:fermipy]",
   "language": "python",
   "name": "conda-env-fermipy-py"
  },
  "language_info": {
   "codemirror_mode": {
    "name": "ipython",
    "version": 2
   },
   "file_extension": ".py",
   "mimetype": "text/x-python",
   "name": "python",
   "nbconvert_exporter": "python",
   "pygments_lexer": "ipython2",
   "version": "2.7.14"
  }
 },
 "nbformat": 4,
 "nbformat_minor": 2
}
